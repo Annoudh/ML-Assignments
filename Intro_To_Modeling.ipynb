{
 "cells": [
  {
   "cell_type": "code",
   "execution_count": 204,
   "id": "d6be9beb-b580-478a-a182-3286748d8e44",
   "metadata": {},
   "outputs": [],
   "source": [
    "import numpy as np\n",
    "import pandas as pd\n",
    "import matplotlib.pyplot as plt\n",
    "import plotly as px\n",
    "import seaborn as sns\n",
    "import seaborn as sb\n",
    "%matplotlib inline\n",
    "import time\n",
    "import datetime\n",
    "from sklearn.metrics import mean_squared_error, mean_absolute_error, accuracy_score, recall_score, precision_score\n",
    "from sklearn.model_selection import train_test_split\n",
    "from sklearn.linear_model import LogisticRegression\n"
   ]
  },
  {
   "cell_type": "code",
   "execution_count": 205,
   "id": "4bbf5180-4516-48f2-bce5-a5cb0d6d29aa",
   "metadata": {},
   "outputs": [],
   "source": [
    "# Load Data\n",
    "df = pd.read_csv('seattle_weather_1948-2017.csv')"
   ]
  },
  {
   "cell_type": "code",
   "execution_count": 206,
   "id": "bcb24986-436c-4d98-bba8-16dd3f5ecc92",
   "metadata": {},
   "outputs": [
    {
     "data": {
      "text/plain": [
       "(25551, 5)"
      ]
     },
     "execution_count": 206,
     "metadata": {},
     "output_type": "execute_result"
    }
   ],
   "source": [
    "df.shape"
   ]
  },
  {
   "cell_type": "code",
   "execution_count": 207,
   "id": "9b7a18cd-0f28-4c82-aa5f-4045065a4e8a",
   "metadata": {},
   "outputs": [
    {
     "data": {
      "text/html": [
       "<div>\n",
       "<style scoped>\n",
       "    .dataframe tbody tr th:only-of-type {\n",
       "        vertical-align: middle;\n",
       "    }\n",
       "\n",
       "    .dataframe tbody tr th {\n",
       "        vertical-align: top;\n",
       "    }\n",
       "\n",
       "    .dataframe thead th {\n",
       "        text-align: right;\n",
       "    }\n",
       "</style>\n",
       "<table border=\"1\" class=\"dataframe\">\n",
       "  <thead>\n",
       "    <tr style=\"text-align: right;\">\n",
       "      <th></th>\n",
       "      <th>DATE</th>\n",
       "      <th>PRCP</th>\n",
       "      <th>TMAX</th>\n",
       "      <th>TMIN</th>\n",
       "      <th>RAIN</th>\n",
       "    </tr>\n",
       "  </thead>\n",
       "  <tbody>\n",
       "    <tr>\n",
       "      <th>0</th>\n",
       "      <td>1948-01-01</td>\n",
       "      <td>0.47</td>\n",
       "      <td>51</td>\n",
       "      <td>42</td>\n",
       "      <td>True</td>\n",
       "    </tr>\n",
       "    <tr>\n",
       "      <th>1</th>\n",
       "      <td>1948-01-02</td>\n",
       "      <td>0.59</td>\n",
       "      <td>45</td>\n",
       "      <td>36</td>\n",
       "      <td>True</td>\n",
       "    </tr>\n",
       "    <tr>\n",
       "      <th>2</th>\n",
       "      <td>1948-01-03</td>\n",
       "      <td>0.42</td>\n",
       "      <td>45</td>\n",
       "      <td>35</td>\n",
       "      <td>True</td>\n",
       "    </tr>\n",
       "    <tr>\n",
       "      <th>3</th>\n",
       "      <td>1948-01-04</td>\n",
       "      <td>0.31</td>\n",
       "      <td>45</td>\n",
       "      <td>34</td>\n",
       "      <td>True</td>\n",
       "    </tr>\n",
       "    <tr>\n",
       "      <th>4</th>\n",
       "      <td>1948-01-05</td>\n",
       "      <td>0.17</td>\n",
       "      <td>45</td>\n",
       "      <td>32</td>\n",
       "      <td>True</td>\n",
       "    </tr>\n",
       "  </tbody>\n",
       "</table>\n",
       "</div>"
      ],
      "text/plain": [
       "         DATE  PRCP  TMAX  TMIN  RAIN\n",
       "0  1948-01-01  0.47    51    42  True\n",
       "1  1948-01-02  0.59    45    36  True\n",
       "2  1948-01-03  0.42    45    35  True\n",
       "3  1948-01-04  0.31    45    34  True\n",
       "4  1948-01-05  0.17    45    32  True"
      ]
     },
     "execution_count": 207,
     "metadata": {},
     "output_type": "execute_result"
    }
   ],
   "source": [
    "df.head()"
   ]
  },
  {
   "cell_type": "code",
   "execution_count": 208,
   "id": "3e5a8e22-b97a-4881-90bc-06e7ae42544d",
   "metadata": {},
   "outputs": [
    {
     "data": {
      "text/html": [
       "<div>\n",
       "<style scoped>\n",
       "    .dataframe tbody tr th:only-of-type {\n",
       "        vertical-align: middle;\n",
       "    }\n",
       "\n",
       "    .dataframe tbody tr th {\n",
       "        vertical-align: top;\n",
       "    }\n",
       "\n",
       "    .dataframe thead th {\n",
       "        text-align: right;\n",
       "    }\n",
       "</style>\n",
       "<table border=\"1\" class=\"dataframe\">\n",
       "  <thead>\n",
       "    <tr style=\"text-align: right;\">\n",
       "      <th></th>\n",
       "      <th>PRCP</th>\n",
       "      <th>TMAX</th>\n",
       "      <th>TMIN</th>\n",
       "    </tr>\n",
       "  </thead>\n",
       "  <tbody>\n",
       "    <tr>\n",
       "      <th>count</th>\n",
       "      <td>25548.000000</td>\n",
       "      <td>25551.000000</td>\n",
       "      <td>25551.000000</td>\n",
       "    </tr>\n",
       "    <tr>\n",
       "      <th>mean</th>\n",
       "      <td>0.106222</td>\n",
       "      <td>59.544206</td>\n",
       "      <td>44.514226</td>\n",
       "    </tr>\n",
       "    <tr>\n",
       "      <th>std</th>\n",
       "      <td>0.239031</td>\n",
       "      <td>12.772984</td>\n",
       "      <td>8.892836</td>\n",
       "    </tr>\n",
       "    <tr>\n",
       "      <th>min</th>\n",
       "      <td>0.000000</td>\n",
       "      <td>4.000000</td>\n",
       "      <td>0.000000</td>\n",
       "    </tr>\n",
       "    <tr>\n",
       "      <th>25%</th>\n",
       "      <td>0.000000</td>\n",
       "      <td>50.000000</td>\n",
       "      <td>38.000000</td>\n",
       "    </tr>\n",
       "    <tr>\n",
       "      <th>50%</th>\n",
       "      <td>0.000000</td>\n",
       "      <td>58.000000</td>\n",
       "      <td>45.000000</td>\n",
       "    </tr>\n",
       "    <tr>\n",
       "      <th>75%</th>\n",
       "      <td>0.100000</td>\n",
       "      <td>69.000000</td>\n",
       "      <td>52.000000</td>\n",
       "    </tr>\n",
       "    <tr>\n",
       "      <th>max</th>\n",
       "      <td>5.020000</td>\n",
       "      <td>103.000000</td>\n",
       "      <td>71.000000</td>\n",
       "    </tr>\n",
       "  </tbody>\n",
       "</table>\n",
       "</div>"
      ],
      "text/plain": [
       "               PRCP          TMAX          TMIN\n",
       "count  25548.000000  25551.000000  25551.000000\n",
       "mean       0.106222     59.544206     44.514226\n",
       "std        0.239031     12.772984      8.892836\n",
       "min        0.000000      4.000000      0.000000\n",
       "25%        0.000000     50.000000     38.000000\n",
       "50%        0.000000     58.000000     45.000000\n",
       "75%        0.100000     69.000000     52.000000\n",
       "max        5.020000    103.000000     71.000000"
      ]
     },
     "execution_count": 208,
     "metadata": {},
     "output_type": "execute_result"
    }
   ],
   "source": [
    "df.describe()"
   ]
  },
  {
   "cell_type": "code",
   "execution_count": 209,
   "id": "0118c3c9-3f91-4e57-bc05-bd0ddf121fa2",
   "metadata": {},
   "outputs": [
    {
     "data": {
      "text/plain": [
       "DATE     object\n",
       "PRCP    float64\n",
       "TMAX      int64\n",
       "TMIN      int64\n",
       "RAIN     object\n",
       "dtype: object"
      ]
     },
     "execution_count": 209,
     "metadata": {},
     "output_type": "execute_result"
    }
   ],
   "source": [
    "df.dtypes"
   ]
  },
  {
   "cell_type": "code",
   "execution_count": 210,
   "id": "81c4cf9c-7b1b-4050-b0e7-340035c7be52",
   "metadata": {},
   "outputs": [
    {
     "data": {
      "text/plain": [
       "42.659778482251184"
      ]
     },
     "execution_count": 210,
     "metadata": {},
     "output_type": "execute_result"
    }
   ],
   "source": [
    "np.mean(df['RAIN']==True)*100"
   ]
  },
  {
   "cell_type": "code",
   "execution_count": 211,
   "id": "91e9708f-09db-4d03-912f-44b707f75d46",
   "metadata": {},
   "outputs": [
    {
     "data": {
      "text/plain": [
       "0        0.47\n",
       "1        0.59\n",
       "2        0.42\n",
       "3        0.31\n",
       "4        0.17\n",
       "         ... \n",
       "25546    0.00\n",
       "25547    0.00\n",
       "25548    0.00\n",
       "25549    0.00\n",
       "25550    0.00\n",
       "Name: PRCP, Length: 25551, dtype: float64"
      ]
     },
     "execution_count": 211,
     "metadata": {},
     "output_type": "execute_result"
    }
   ],
   "source": [
    "df['PRCP']\n"
   ]
  },
  {
   "cell_type": "markdown",
   "id": "43b215f8-d829-4f06-8b09-a522aff833b7",
   "metadata": {},
   "source": [
    "### Build a heuristic model to predict if it will rain tomorrow."
   ]
  },
  {
   "cell_type": "markdown",
   "id": "d4b87a03-2d74-4141-9361-de55369a54fb",
   "metadata": {},
   "source": [
    "## EDA"
   ]
  },
  {
   "cell_type": "code",
   "execution_count": 212,
   "id": "f46e8262-da1a-4b6d-bbb8-d960bd50e983",
   "metadata": {},
   "outputs": [
    {
     "data": {
      "text/plain": [
       "<AxesSubplot:ylabel='Frequency'>"
      ]
     },
     "execution_count": 212,
     "metadata": {},
     "output_type": "execute_result"
    },
    {
     "data": {
      "image/png": "[encoded data removed]",
      "text/plain": [
       "<Figure size 432x288 with 1 Axes>"
      ]
     },
     "metadata": {
      "needs_background": "light"
     },
     "output_type": "display_data"
    }
   ],
   "source": [
    "df['PRCP'].loc[df['PRCP' ]<3].plot.hist()\n"
   ]
  },
  {
   "cell_type": "code",
   "execution_count": 213,
   "id": "67f50c90-ce3d-4a66-bb0d-b7e61552d18b",
   "metadata": {},
   "outputs": [],
   "source": [
    "#Cleaninng Data"
   ]
  },
  {
   "cell_type": "code",
   "execution_count": 214,
   "id": "36d389cf-de7f-42d2-b7f3-dec476de5cbb",
   "metadata": {},
   "outputs": [
    {
     "data": {
      "text/plain": [
       "DATE    0\n",
       "PRCP    3\n",
       "TMAX    0\n",
       "TMIN    0\n",
       "RAIN    3\n",
       "dtype: int64"
      ]
     },
     "execution_count": 214,
     "metadata": {},
     "output_type": "execute_result"
    }
   ],
   "source": [
    "df.isnull().sum()\n"
   ]
  },
  {
   "cell_type": "code",
   "execution_count": 215,
   "id": "14e47d03-2160-4367-92ea-2228ddbada43",
   "metadata": {},
   "outputs": [
    {
     "data": {
      "text/html": [
       "<div>\n",
       "<style scoped>\n",
       "    .dataframe tbody tr th:only-of-type {\n",
       "        vertical-align: middle;\n",
       "    }\n",
       "\n",
       "    .dataframe tbody tr th {\n",
       "        vertical-align: top;\n",
       "    }\n",
       "\n",
       "    .dataframe thead th {\n",
       "        text-align: right;\n",
       "    }\n",
       "</style>\n",
       "<table border=\"1\" class=\"dataframe\">\n",
       "  <thead>\n",
       "    <tr style=\"text-align: right;\">\n",
       "      <th></th>\n",
       "      <th>DATE</th>\n",
       "      <th>PRCP</th>\n",
       "      <th>TMAX</th>\n",
       "      <th>TMIN</th>\n",
       "      <th>RAIN</th>\n",
       "    </tr>\n",
       "  </thead>\n",
       "  <tbody>\n",
       "    <tr>\n",
       "      <th>0</th>\n",
       "      <td>1948-01-01</td>\n",
       "      <td>0.47</td>\n",
       "      <td>51</td>\n",
       "      <td>42</td>\n",
       "      <td>True</td>\n",
       "    </tr>\n",
       "    <tr>\n",
       "      <th>1</th>\n",
       "      <td>1948-01-02</td>\n",
       "      <td>0.59</td>\n",
       "      <td>45</td>\n",
       "      <td>36</td>\n",
       "      <td>True</td>\n",
       "    </tr>\n",
       "    <tr>\n",
       "      <th>2</th>\n",
       "      <td>1948-01-03</td>\n",
       "      <td>0.42</td>\n",
       "      <td>45</td>\n",
       "      <td>35</td>\n",
       "      <td>True</td>\n",
       "    </tr>\n",
       "    <tr>\n",
       "      <th>3</th>\n",
       "      <td>1948-01-04</td>\n",
       "      <td>0.31</td>\n",
       "      <td>45</td>\n",
       "      <td>34</td>\n",
       "      <td>True</td>\n",
       "    </tr>\n",
       "    <tr>\n",
       "      <th>4</th>\n",
       "      <td>1948-01-05</td>\n",
       "      <td>0.17</td>\n",
       "      <td>45</td>\n",
       "      <td>32</td>\n",
       "      <td>True</td>\n",
       "    </tr>\n",
       "    <tr>\n",
       "      <th>...</th>\n",
       "      <td>...</td>\n",
       "      <td>...</td>\n",
       "      <td>...</td>\n",
       "      <td>...</td>\n",
       "      <td>...</td>\n",
       "    </tr>\n",
       "    <tr>\n",
       "      <th>25546</th>\n",
       "      <td>2017-12-10</td>\n",
       "      <td>0.00</td>\n",
       "      <td>49</td>\n",
       "      <td>34</td>\n",
       "      <td>False</td>\n",
       "    </tr>\n",
       "    <tr>\n",
       "      <th>25547</th>\n",
       "      <td>2017-12-11</td>\n",
       "      <td>0.00</td>\n",
       "      <td>49</td>\n",
       "      <td>29</td>\n",
       "      <td>False</td>\n",
       "    </tr>\n",
       "    <tr>\n",
       "      <th>25548</th>\n",
       "      <td>2017-12-12</td>\n",
       "      <td>0.00</td>\n",
       "      <td>46</td>\n",
       "      <td>32</td>\n",
       "      <td>False</td>\n",
       "    </tr>\n",
       "    <tr>\n",
       "      <th>25549</th>\n",
       "      <td>2017-12-13</td>\n",
       "      <td>0.00</td>\n",
       "      <td>48</td>\n",
       "      <td>34</td>\n",
       "      <td>False</td>\n",
       "    </tr>\n",
       "    <tr>\n",
       "      <th>25550</th>\n",
       "      <td>2017-12-14</td>\n",
       "      <td>0.00</td>\n",
       "      <td>50</td>\n",
       "      <td>36</td>\n",
       "      <td>False</td>\n",
       "    </tr>\n",
       "  </tbody>\n",
       "</table>\n",
       "<p>25548 rows × 5 columns</p>\n",
       "</div>"
      ],
      "text/plain": [
       "             DATE  PRCP  TMAX  TMIN   RAIN\n",
       "0      1948-01-01  0.47    51    42   True\n",
       "1      1948-01-02  0.59    45    36   True\n",
       "2      1948-01-03  0.42    45    35   True\n",
       "3      1948-01-04  0.31    45    34   True\n",
       "4      1948-01-05  0.17    45    32   True\n",
       "...           ...   ...   ...   ...    ...\n",
       "25546  2017-12-10  0.00    49    34  False\n",
       "25547  2017-12-11  0.00    49    29  False\n",
       "25548  2017-12-12  0.00    46    32  False\n",
       "25549  2017-12-13  0.00    48    34  False\n",
       "25550  2017-12-14  0.00    50    36  False\n",
       "\n",
       "[25548 rows x 5 columns]"
      ]
     },
     "execution_count": 215,
     "metadata": {},
     "output_type": "execute_result"
    }
   ],
   "source": [
    "df= df.dropna()\n",
    "df"
   ]
  },
  {
   "cell_type": "code",
   "execution_count": 216,
   "id": "37866095-eeaf-4d8a-849e-36874ee8ab72",
   "metadata": {},
   "outputs": [
    {
     "name": "stderr",
     "output_type": "stream",
     "text": [
      "C:\\Users\\iand9\\anaconda3\\lib\\site-packages\\seaborn\\distributions.py:306: UserWarning: Dataset has 0 variance; skipping density estimate.\n",
      "  warnings.warn(msg, UserWarning)\n"
     ]
    },
    {
     "data": {
      "text/plain": [
       "<seaborn.axisgrid.PairGrid at 0x1db1e624670>"
      ]
     },
     "execution_count": 216,
     "metadata": {},
     "output_type": "execute_result"
    },
    {
     "data": {
      "image/png": "[encoded data removed]",
      "text/plain": [
       "<Figure size 601.25x540 with 12 Axes>"
      ]
     },
     "metadata": {
      "needs_background": "light"
     },
     "output_type": "display_data"
    }
   ],
   "source": [
    "#Improve\n",
    "sb.pairplot(data=df, hue=\"RAIN\", palette='hls')"
   ]
  },
  {
   "cell_type": "code",
   "execution_count": 217,
   "id": "1c1d00b0-e0e5-4c54-80c7-8b26723dd46e",
   "metadata": {},
   "outputs": [
    {
     "data": {
      "text/plain": [
       "<AxesSubplot:>"
      ]
     },
     "execution_count": 217,
     "metadata": {},
     "output_type": "execute_result"
    },
    {
     "data": {
      "image/png": "[encoded data removed]",
      "text/plain": [
       "<Figure size 432x288 with 1 Axes>"
      ]
     },
     "metadata": {
      "needs_background": "light"
     },
     "output_type": "display_data"
    }
   ],
   "source": [
    "sb.boxplot(data=df,order=[\"TMAX\", \"TMIN\"],palette='hls')\n"
   ]
  },
  {
   "cell_type": "code",
   "execution_count": 218,
   "id": "4a129b41-96e4-45cd-b8f0-f6f96d01ce11",
   "metadata": {},
   "outputs": [
    {
     "data": {
      "text/plain": [
       "<AxesSubplot:>"
      ]
     },
     "execution_count": 218,
     "metadata": {},
     "output_type": "execute_result"
    },
    {
     "data": {
      "image/png": "[encoded data removed]",
      "text/plain": [
       "<Figure size 432x288 with 1 Axes>"
      ]
     },
     "metadata": {
      "needs_background": "light"
     },
     "output_type": "display_data"
    }
   ],
   "source": [
    "sb.boxplot(data=df,palette='hls')\n"
   ]
  },
  {
   "cell_type": "code",
   "execution_count": 219,
   "id": "77f0c952-be69-475e-aff2-707cb3ae8c5c",
   "metadata": {},
   "outputs": [
    {
     "data": {
      "image/png": "[encoded data removed]",
      "text/plain": [
       "<Figure size 432x288 with 1 Axes>"
      ]
     },
     "metadata": {
      "needs_background": "light"
     },
     "output_type": "display_data"
    }
   ],
   "source": [
    "sns.boxplot(data=[df.TMIN , df.TMAX],palette='hls');\n",
    "plt.xlabel('MIN and MAX Temp');"
   ]
  },
  {
   "cell_type": "code",
   "execution_count": 220,
   "id": "c8c84765-63e4-4c68-8030-a834b4cc6a54",
   "metadata": {},
   "outputs": [
    {
     "data": {
      "text/plain": [
       "False    0.573352\n",
       "True     0.426648\n",
       "Name: RAIN, dtype: float64"
      ]
     },
     "execution_count": 220,
     "metadata": {},
     "output_type": "execute_result"
    }
   ],
   "source": [
    "# Baseline Model Prediction\n",
    "\n",
    "# What would be our accuracy if we predicted the majority class\n",
    "\n",
    "df[\"RAIN\"].value_counts(normalize=True)"
   ]
  },
  {
   "cell_type": "markdown",
   "id": "cd4c5013-0127-4105-86af-9a77e2761914",
   "metadata": {},
   "source": [
    "### How could we further improve our model?\n"
   ]
  },
  {
   "cell_type": "markdown",
   "id": "d3387d53-cbeb-456b-b4bc-dd1a5f98817c",
   "metadata": {},
   "source": [
    "## build the model manually"
   ]
  },
  {
   "cell_type": "code",
   "execution_count": 221,
   "id": "831b3aa5-7e64-44c7-898f-405cb6853ef2",
   "metadata": {},
   "outputs": [],
   "source": [
    "\n",
    "\n",
    "def heuristic(df):\n",
    "    \n",
    "\n",
    "    preds = []\n",
    "    for x in range(len(df)):\n",
    "        if x <2:\n",
    "            preds.append(False)\n",
    "        else:\n",
    "      \n",
    "            if (df.iloc[x-1][\"RAIN\"] == True) | (df.iloc[x-2][\"RAIN\"] == True):\n",
    "              preds.append(True)\n",
    "                \n",
    "            elif (df.iloc[x-1][\"TMAX\"] >= 15) & (df.iloc[x-2][\"TMAX\"] <= 20):\n",
    "                preds.append(True)\n",
    "\n",
    "            elif (df.iloc[x-1][\"TMIN\"] >= 15) & (df.iloc[x-2][\"TMIN\"] <= 10):\n",
    "                preds.append(True)\n",
    "            else:\n",
    "                preds.append(False)\n",
    "    return preds"
   ]
  },
  {
   "cell_type": "code",
   "execution_count": 222,
   "id": "033b82b6-2938-4d8c-a44d-876808aa5bb7",
   "metadata": {},
   "outputs": [],
   "source": [
    "df[\"preds\"]=heuristic(df)"
   ]
  },
  {
   "cell_type": "code",
   "execution_count": 223,
   "id": "00a9faa9-f27a-4218-a950-538ec1a43a1f",
   "metadata": {},
   "outputs": [
    {
     "data": {
      "text/html": [
       "<div>\n",
       "<style scoped>\n",
       "    .dataframe tbody tr th:only-of-type {\n",
       "        vertical-align: middle;\n",
       "    }\n",
       "\n",
       "    .dataframe tbody tr th {\n",
       "        vertical-align: top;\n",
       "    }\n",
       "\n",
       "    .dataframe thead th {\n",
       "        text-align: right;\n",
       "    }\n",
       "</style>\n",
       "<table border=\"1\" class=\"dataframe\">\n",
       "  <thead>\n",
       "    <tr style=\"text-align: right;\">\n",
       "      <th></th>\n",
       "      <th>DATE</th>\n",
       "      <th>PRCP</th>\n",
       "      <th>TMAX</th>\n",
       "      <th>TMIN</th>\n",
       "      <th>RAIN</th>\n",
       "      <th>preds</th>\n",
       "    </tr>\n",
       "  </thead>\n",
       "  <tbody>\n",
       "    <tr>\n",
       "      <th>0</th>\n",
       "      <td>1948-01-01</td>\n",
       "      <td>0.47</td>\n",
       "      <td>51</td>\n",
       "      <td>42</td>\n",
       "      <td>True</td>\n",
       "      <td>False</td>\n",
       "    </tr>\n",
       "    <tr>\n",
       "      <th>1</th>\n",
       "      <td>1948-01-02</td>\n",
       "      <td>0.59</td>\n",
       "      <td>45</td>\n",
       "      <td>36</td>\n",
       "      <td>True</td>\n",
       "      <td>False</td>\n",
       "    </tr>\n",
       "    <tr>\n",
       "      <th>2</th>\n",
       "      <td>1948-01-03</td>\n",
       "      <td>0.42</td>\n",
       "      <td>45</td>\n",
       "      <td>35</td>\n",
       "      <td>True</td>\n",
       "      <td>True</td>\n",
       "    </tr>\n",
       "    <tr>\n",
       "      <th>3</th>\n",
       "      <td>1948-01-04</td>\n",
       "      <td>0.31</td>\n",
       "      <td>45</td>\n",
       "      <td>34</td>\n",
       "      <td>True</td>\n",
       "      <td>True</td>\n",
       "    </tr>\n",
       "    <tr>\n",
       "      <th>4</th>\n",
       "      <td>1948-01-05</td>\n",
       "      <td>0.17</td>\n",
       "      <td>45</td>\n",
       "      <td>32</td>\n",
       "      <td>True</td>\n",
       "      <td>True</td>\n",
       "    </tr>\n",
       "  </tbody>\n",
       "</table>\n",
       "</div>"
      ],
      "text/plain": [
       "         DATE  PRCP  TMAX  TMIN  RAIN  preds\n",
       "0  1948-01-01  0.47    51    42  True  False\n",
       "1  1948-01-02  0.59    45    36  True  False\n",
       "2  1948-01-03  0.42    45    35  True   True\n",
       "3  1948-01-04  0.31    45    34  True   True\n",
       "4  1948-01-05  0.17    45    32  True   True"
      ]
     },
     "execution_count": 223,
     "metadata": {},
     "output_type": "execute_result"
    }
   ],
   "source": [
    "df.head()"
   ]
  },
  {
   "cell_type": "code",
   "execution_count": 224,
   "id": "ddd0be1c-6f10-4654-ab35-fd547637e67b",
   "metadata": {},
   "outputs": [],
   "source": [
    "# Determine Accuracy\n",
    "\n",
    "# Create function to to find values\n",
    "\n",
    "def calc_confuse(df):\n",
    "    \n",
    "    \"Calculate all possible results of a confusion matrix\"\n",
    "    \n",
    "    # Initialzing the arrays to zero \n",
    "    # These arrays will be used to save the values\n",
    "    FP = np.zeros(len(df))\n",
    "    TP = np.zeros(len(df))\n",
    "    FN = np.zeros(len(df))\n",
    "    TN = np.zeros(len(df))\n",
    "    \n",
    "    for x in range(len(df)):\n",
    "        \n",
    "        # positive --> weather is raining \n",
    "        # negative --> weather is not raining \n",
    "        \n",
    "        # True Positive\n",
    "        if (df[\"RAIN\"].iloc[x] == True) & (df[\"preds\"].iloc[x] == True):\n",
    "            TP[x] = 1\n",
    "        # True Negative\n",
    "        elif (df[\"RAIN\"].iloc[x] == False) & (df[\"preds\"].iloc[x] == False):\n",
    "            TN[x] = 1\n",
    "        # False Negative --> wrong prediction , prediction = not happening\n",
    "        elif (df[\"RAIN\"].iloc[x] == True) & (df[\"preds\"].iloc[x] == False):\n",
    "            FN[x] = 1\n",
    "        # False Positive --> wrong prediction , prediction = happening\n",
    "        else:\n",
    "            FP[x] = 1\n",
    "    \n",
    "    return FP, TP, FN, TN"
   ]
  },
  {
   "cell_type": "code",
   "execution_count": 225,
   "id": "e27fad71-c2eb-49d8-9803-9a53ac5fba4d",
   "metadata": {},
   "outputs": [
    {
     "data": {
      "text/html": [
       "<div>\n",
       "<style scoped>\n",
       "    .dataframe tbody tr th:only-of-type {\n",
       "        vertical-align: middle;\n",
       "    }\n",
       "\n",
       "    .dataframe tbody tr th {\n",
       "        vertical-align: top;\n",
       "    }\n",
       "\n",
       "    .dataframe thead th {\n",
       "        text-align: right;\n",
       "    }\n",
       "</style>\n",
       "<table border=\"1\" class=\"dataframe\">\n",
       "  <thead>\n",
       "    <tr style=\"text-align: right;\">\n",
       "      <th></th>\n",
       "      <th>DATE</th>\n",
       "      <th>PRCP</th>\n",
       "      <th>TMAX</th>\n",
       "      <th>TMIN</th>\n",
       "      <th>RAIN</th>\n",
       "      <th>preds</th>\n",
       "      <th>FP</th>\n",
       "      <th>TP</th>\n",
       "      <th>FN</th>\n",
       "      <th>TN</th>\n",
       "    </tr>\n",
       "  </thead>\n",
       "  <tbody>\n",
       "    <tr>\n",
       "      <th>2836</th>\n",
       "      <td>1955-10-07</td>\n",
       "      <td>0.67</td>\n",
       "      <td>51</td>\n",
       "      <td>45</td>\n",
       "      <td>True</td>\n",
       "      <td>False</td>\n",
       "      <td>0.0</td>\n",
       "      <td>0.0</td>\n",
       "      <td>1.0</td>\n",
       "      <td>0.0</td>\n",
       "    </tr>\n",
       "    <tr>\n",
       "      <th>18673</th>\n",
       "      <td>1999-02-15</td>\n",
       "      <td>0.03</td>\n",
       "      <td>50</td>\n",
       "      <td>33</td>\n",
       "      <td>True</td>\n",
       "      <td>True</td>\n",
       "      <td>0.0</td>\n",
       "      <td>1.0</td>\n",
       "      <td>0.0</td>\n",
       "      <td>0.0</td>\n",
       "    </tr>\n",
       "    <tr>\n",
       "      <th>1407</th>\n",
       "      <td>1951-11-08</td>\n",
       "      <td>0.00</td>\n",
       "      <td>53</td>\n",
       "      <td>42</td>\n",
       "      <td>False</td>\n",
       "      <td>True</td>\n",
       "      <td>1.0</td>\n",
       "      <td>0.0</td>\n",
       "      <td>0.0</td>\n",
       "      <td>0.0</td>\n",
       "    </tr>\n",
       "    <tr>\n",
       "      <th>23128</th>\n",
       "      <td>2011-04-28</td>\n",
       "      <td>0.04</td>\n",
       "      <td>51</td>\n",
       "      <td>39</td>\n",
       "      <td>True</td>\n",
       "      <td>True</td>\n",
       "      <td>0.0</td>\n",
       "      <td>1.0</td>\n",
       "      <td>0.0</td>\n",
       "      <td>0.0</td>\n",
       "    </tr>\n",
       "    <tr>\n",
       "      <th>10938</th>\n",
       "      <td>1977-12-12</td>\n",
       "      <td>0.48</td>\n",
       "      <td>49</td>\n",
       "      <td>45</td>\n",
       "      <td>True</td>\n",
       "      <td>True</td>\n",
       "      <td>0.0</td>\n",
       "      <td>1.0</td>\n",
       "      <td>0.0</td>\n",
       "      <td>0.0</td>\n",
       "    </tr>\n",
       "    <tr>\n",
       "      <th>24361</th>\n",
       "      <td>2014-09-12</td>\n",
       "      <td>0.00</td>\n",
       "      <td>76</td>\n",
       "      <td>55</td>\n",
       "      <td>False</td>\n",
       "      <td>False</td>\n",
       "      <td>0.0</td>\n",
       "      <td>0.0</td>\n",
       "      <td>0.0</td>\n",
       "      <td>1.0</td>\n",
       "    </tr>\n",
       "    <tr>\n",
       "      <th>9622</th>\n",
       "      <td>1974-05-06</td>\n",
       "      <td>0.01</td>\n",
       "      <td>69</td>\n",
       "      <td>54</td>\n",
       "      <td>True</td>\n",
       "      <td>True</td>\n",
       "      <td>0.0</td>\n",
       "      <td>1.0</td>\n",
       "      <td>0.0</td>\n",
       "      <td>0.0</td>\n",
       "    </tr>\n",
       "    <tr>\n",
       "      <th>24405</th>\n",
       "      <td>2014-10-26</td>\n",
       "      <td>0.06</td>\n",
       "      <td>55</td>\n",
       "      <td>46</td>\n",
       "      <td>True</td>\n",
       "      <td>True</td>\n",
       "      <td>0.0</td>\n",
       "      <td>1.0</td>\n",
       "      <td>0.0</td>\n",
       "      <td>0.0</td>\n",
       "    </tr>\n",
       "    <tr>\n",
       "      <th>10852</th>\n",
       "      <td>1977-09-17</td>\n",
       "      <td>0.00</td>\n",
       "      <td>65</td>\n",
       "      <td>50</td>\n",
       "      <td>False</td>\n",
       "      <td>True</td>\n",
       "      <td>1.0</td>\n",
       "      <td>0.0</td>\n",
       "      <td>0.0</td>\n",
       "      <td>0.0</td>\n",
       "    </tr>\n",
       "    <tr>\n",
       "      <th>9173</th>\n",
       "      <td>1973-02-11</td>\n",
       "      <td>0.00</td>\n",
       "      <td>48</td>\n",
       "      <td>40</td>\n",
       "      <td>False</td>\n",
       "      <td>True</td>\n",
       "      <td>1.0</td>\n",
       "      <td>0.0</td>\n",
       "      <td>0.0</td>\n",
       "      <td>0.0</td>\n",
       "    </tr>\n",
       "  </tbody>\n",
       "</table>\n",
       "</div>"
      ],
      "text/plain": [
       "             DATE  PRCP  TMAX  TMIN   RAIN  preds   FP   TP   FN   TN\n",
       "2836   1955-10-07  0.67    51    45   True  False  0.0  0.0  1.0  0.0\n",
       "18673  1999-02-15  0.03    50    33   True   True  0.0  1.0  0.0  0.0\n",
       "1407   1951-11-08  0.00    53    42  False   True  1.0  0.0  0.0  0.0\n",
       "23128  2011-04-28  0.04    51    39   True   True  0.0  1.0  0.0  0.0\n",
       "10938  1977-12-12  0.48    49    45   True   True  0.0  1.0  0.0  0.0\n",
       "24361  2014-09-12  0.00    76    55  False  False  0.0  0.0  0.0  1.0\n",
       "9622   1974-05-06  0.01    69    54   True   True  0.0  1.0  0.0  0.0\n",
       "24405  2014-10-26  0.06    55    46   True   True  0.0  1.0  0.0  0.0\n",
       "10852  1977-09-17  0.00    65    50  False   True  1.0  0.0  0.0  0.0\n",
       "9173   1973-02-11  0.00    48    40  False   True  1.0  0.0  0.0  0.0"
      ]
     },
     "execution_count": 225,
     "metadata": {},
     "output_type": "execute_result"
    }
   ],
   "source": [
    "# Create a copy of the dataframe\n",
    "\n",
    "df_temp = df.copy()\n",
    "\n",
    "df_temp[\"preds\"] = heuristic(df_temp) # Create a column of predictions\n",
    "\n",
    "confuse_ls = [w,x,y,z] = calc_confuse(df_temp) # Calculate confusion matrix stats\n",
    "col_names = [\"FP\", \"TP\", \"FN\", \"TN\"] # Create column name ls\n",
    "\n",
    "# Create new columns\n",
    "for x in range(len(confuse_ls)):\n",
    "    df_temp[col_names[x]] = confuse_ls[x]\n",
    "\n",
    "# Look at 10 random rows to determine the accuracy\n",
    "df_temp.sample(10)"
   ]
  },
  {
   "cell_type": "code",
   "execution_count": 226,
   "id": "3a6a8c7c-4bca-4f8c-ac3e-01a566da849a",
   "metadata": {},
   "outputs": [
    {
     "data": {
      "text/plain": [
       "0.6707765774228902"
      ]
     },
     "execution_count": 226,
     "metadata": {},
     "output_type": "execute_result"
    }
   ],
   "source": [
    "# Calculate Accuracy\n",
    "\n",
    "(sum(df_temp[\"TP\"]) + sum(df_temp[\"TN\"])) / len(df_temp)\n",
    "\n"
   ]
  },
  {
   "cell_type": "code",
   "execution_count": 227,
   "id": "e851c68d-b426-4422-aa90-fda4dbb95732",
   "metadata": {},
   "outputs": [
    {
     "data": {
      "text/plain": [
       "0.7837614678899083"
      ]
     },
     "execution_count": 227,
     "metadata": {},
     "output_type": "execute_result"
    }
   ],
   "source": [
    "# Calculate Precision \n",
    "\n",
    "sum(df_temp[\"TP\"])/ (sum(df_temp[\"TP\"]) + sum(df_temp[\"FN\"]))\n",
    "    "
   ]
  },
  {
   "cell_type": "code",
   "execution_count": 228,
   "id": "1832e811-7a7f-4f59-a7dc-5769c78de82a",
   "metadata": {},
   "outputs": [
    {
     "data": {
      "text/plain": [
       "0.5852572446393094"
      ]
     },
     "execution_count": 228,
     "metadata": {},
     "output_type": "execute_result"
    }
   ],
   "source": [
    "# Calculate Recall\n",
    "\n",
    "sum(df_temp[\"TP\"])/ (sum(df_temp[\"TP\"]) + sum(df_temp[\"FP\"]))\n",
    "    "
   ]
  },
  {
   "cell_type": "markdown",
   "id": "ab29f614-3f5a-454c-9066-18247e49eba1",
   "metadata": {},
   "source": [
    "### -----------------------------------------------------------------------------------------------"
   ]
  },
  {
   "cell_type": "markdown",
   "id": "192a386e-c3d9-4c1c-981c-b8845c0c477f",
   "metadata": {},
   "source": [
    "### Split into Train and test"
   ]
  },
  {
   "cell_type": "code",
   "execution_count": 229,
   "id": "808336e7-7f29-4c46-9d56-5e115a85db03",
   "metadata": {},
   "outputs": [],
   "source": [
    "from sklearn.metrics import mean_squared_error, mean_absolute_error, accuracy_score, recall_score, precision_score\n",
    "from sklearn.model_selection import train_test_split\n",
    "from sklearn.linear_model import LogisticRegression\n",
    "\n",
    "x = df[['PRCP', 'TMAX', 'TMIN']] \n",
    "y = df.RAIN.astype(np.int32) \n",
    "\n",
    "X_train, X_test, y_train, y_test = train_test_split(x,y, train_size=0.70)"
   ]
  },
  {
   "cell_type": "markdown",
   "id": "665e5feb-ee68-458a-8957-795a70957fec",
   "metadata": {},
   "source": [
    "### Apply ML Model"
   ]
  },
  {
   "cell_type": "code",
   "execution_count": 230,
   "id": "c1cb0733-6029-4740-a39e-1aa9a76b0db0",
   "metadata": {},
   "outputs": [],
   "source": [
    "logpReg = LogisticRegression()\n"
   ]
  },
  {
   "cell_type": "code",
   "execution_count": 231,
   "id": "f733263f-943a-4103-9e8d-07aa5c2dfa9d",
   "metadata": {},
   "outputs": [
    {
     "data": {
      "text/plain": [
       "LogisticRegression()"
      ]
     },
     "execution_count": 231,
     "metadata": {},
     "output_type": "execute_result"
    }
   ],
   "source": [
    "logpReg.fit(X=X_train, y=y_train)\n"
   ]
  },
  {
   "cell_type": "code",
   "execution_count": 232,
   "id": "ae7d98d6-61d2-4177-abaf-b193e3829db5",
   "metadata": {},
   "outputs": [
    {
     "data": {
      "text/plain": [
       "array([0, 0, 0, ..., 0, 1, 0])"
      ]
     },
     "execution_count": 232,
     "metadata": {},
     "output_type": "execute_result"
    }
   ],
   "source": [
    "\n",
    "logpReg.predict(X_test)\n"
   ]
  },
  {
   "cell_type": "code",
   "execution_count": 233,
   "id": "df548bdd-d71b-4048-b4da-bed516bf57e5",
   "metadata": {},
   "outputs": [],
   "source": [
    "preds = logpReg.predict(X_test)\n"
   ]
  },
  {
   "cell_type": "code",
   "execution_count": 234,
   "id": "c88c3440-6bd6-427a-9f15-7b81ff1d2e96",
   "metadata": {},
   "outputs": [
    {
     "name": "stdout",
     "output_type": "stream",
     "text": [
      "92.8897586431833\n"
     ]
    }
   ],
   "source": [
    "#improve\n",
    "# Report highest accuracy with %\n",
    "accuracy=logpReg.score(X_test,y_test)\n",
    "print(accuracy*100)"
   ]
  }
 ],
 "metadata": {
  "kernelspec": {
   "display_name": "Python 3",
   "language": "python",
   "name": "python3"
  },
  "language_info": {
   "codemirror_mode": {
    "name": "ipython",
    "version": 3
   },
   "file_extension": ".py",
   "mimetype": "text/x-python",
   "name": "python",
   "nbconvert_exporter": "python",
   "pygments_lexer": "ipython3",
   "version": "3.8.8"
  }
 },
 "nbformat": 4,
 "nbformat_minor": 5
}
